{
 "cells": [
  {
   "cell_type": "code",
   "execution_count": 2,
   "id": "7dfc5c14",
   "metadata": {
    "vscode": {
     "languageId": "r"
    }
   },
   "outputs": [
    {
     "name": "stderr",
     "output_type": "stream",
     "text": [
      "Warning message:\n",
      "\"package 'tidypolars' was built under R version 4.5.1\"\n",
      "Warning message:\n",
      "\"package 'polars' was built under R version 4.5.1\"\n",
      "Warning message:\n",
      "\"package 'polarssql' was built under R version 4.5.1\"\n"
     ]
    }
   ],
   "source": [
    "library(tidypolars)\n",
    "library(polars)\n",
    "library(polarssql)"
   ]
  },
  {
   "cell_type": "code",
   "execution_count": 3,
   "id": "b0baa94f",
   "metadata": {
    "vscode": {
     "languageId": "r"
    }
   },
   "outputs": [],
   "source": [
    "folder_path <- \"csvs_per_year/\"\n",
    "file_list <- list.files(folder_path, pattern = \"\\\\.csv$\", full.names = TRUE)"
   ]
  },
  {
   "cell_type": "code",
   "execution_count": 32,
   "id": "eb8125b8",
   "metadata": {
    "vscode": {
     "languageId": "r"
    }
   },
   "outputs": [],
   "source": [
    "df1 <- pl$read_csv(file_list[11])$lazy()\n",
    "df2 <- pl$read_csv(file_list[12])$lazy()"
   ]
  },
  {
   "cell_type": "code",
   "execution_count": 33,
   "id": "79f2a8b5",
   "metadata": {
    "vscode": {
     "languageId": "r"
    }
   },
   "outputs": [
    {
     "data": {
      "text/html": [
       "14"
      ],
      "text/latex": [
       "14"
      ],
      "text/markdown": [
       "14"
      ],
      "text/plain": [
       "[1] 14"
      ]
     },
     "metadata": {},
     "output_type": "display_data"
    }
   ],
   "source": [
    "length(names(df1))"
   ]
  },
  {
   "cell_type": "code",
   "execution_count": 34,
   "id": "cec492fe",
   "metadata": {
    "vscode": {
     "languageId": "r"
    }
   },
   "outputs": [
    {
     "data": {
      "text/html": [
       "14"
      ],
      "text/latex": [
       "14"
      ],
      "text/markdown": [
       "14"
      ],
      "text/plain": [
       "[1] 14"
      ]
     },
     "metadata": {},
     "output_type": "display_data"
    }
   ],
   "source": [
    "length(names(df2))"
   ]
  },
  {
   "cell_type": "code",
   "execution_count": null,
   "metadata": {
    "vscode": {
     "languageId": "r"
    }
   },
   "outputs": [],
   "source": [
    "df1$collect()$sort(\"date\")"
   ]
  },
  {
   "cell_type": "code",
   "execution_count": 36,
   "id": "38ae5414",
   "metadata": {
    "vscode": {
     "languageId": "r"
    }
   },
   "outputs": [
    {
     "name": "stdout",
     "output_type": "stream",
     "text": [
      "[1] 1\n",
      "[1] 2\n",
      "[1] 3\n",
      "[1] 4\n",
      "[1] 5\n",
      "[1] 6\n",
      "[1] 7\n",
      "[1] 8\n",
      "[1] 9\n",
      "[1] 10\n",
      "[1] 11\n",
      "[1] \"entre\"\n",
      "[1] 12\n",
      "[1] 13\n",
      "[1] 14\n",
      "[1] 15\n",
      "[1] 16\n",
      "[1] 17\n",
      "[1] 18\n"
     ]
    }
   ],
   "source": [
    "df_concat <- pl$DataFrame()$lazy()\n",
    "\n",
    "for (file in seq_along(file_list)) {\n",
    "  print(file)\n",
    "  df <- pl$read_csv(file_list[file])$lazy()$sort(\"date\")\n",
    "\n",
    "  columns <- names(df)\n",
    "  columns_toupper <- lapply(columns, function(col) {\n",
    "    pl$col(col)$alias(toupper(col))\n",
    "  })\n",
    "\n",
    "  df <- df$with_columns(!!!columns_toupper)\n",
    "  \n",
    "  if (file != 1) {\n",
    "    if (length(names(df)) < length(column_select)) {\n",
    "      print(\"entre\")\n",
    "      column_select <- toupper(names(df))\n",
    "      df_concat <- df_concat$select(column_select)\n",
    "    }\n",
    "  }\n",
    "\n",
    "  if (file == 1) {\n",
    "    column_select <- toupper(names(df))\n",
    "  }\n",
    "\n",
    "  df <- df$select(columns_select)\n",
    "\n",
    "  #df_list <- append(df_list, df)\n",
    "\n",
    "  df_concat <- pl$concat(df_concat, df, how = \"vertical\")\n",
    "}"
   ]
  },
  {
   "cell_type": "code",
   "execution_count": 38,
   "id": "67dd90de",
   "metadata": {
    "vscode": {
     "languageId": "r"
    }
   },
   "outputs": [
    {
     "ename": "ERROR",
     "evalue": "\u001b[1m\u001b[33mError\u001b[39m in `df_concat$collect()`:\u001b[22m\n\u001b[1m\u001b[22m\u001b[33m!\u001b[39m Evaluation failed in `$collect()`.\n\u001b[1mCaused by error:\u001b[22m\n\u001b[33m!\u001b[39m Invalid operation: 'union'/'concat' inputs should all have the same schema,got\nSchema:\n and \nSchema:\nname: DATE, field: String\nname: BEN, field: Float64\nname: CO, field: Float64\nname: EBE, field: Float64\nname: MXY, field: Float64\nname: NMHC, field: Float64\nname: NO_2, field: Float64\nname: NOX, field: Float64\nname: OXY, field: Float64\nname: O_3, field: Float64\nname: PM10, field: Float64\nname: PXY, field: Float64\nname: SO_2, field: Float64\nname: TCH, field: Float64\nname: TOL, field: Float64\nname: STATION, field: Int64\n\n\nResolved plan until failure:\n\n\t---> FAILED HERE RESOLVING 'sink' <---\nSELECT [col(\"DATE\"), col(\"BEN\"), col(\"CO\"), col(\"EBE\"), col(\"MXY\"), col(\"NMHC\"), col(\"NO_2\"), col(\"NOX\"), col(\"OXY\"), col(\"O_3\"), col(\"PM10\"), col(\"PXY\"), col(\"SO_2\"), col(\"TCH\"), col(\"TOL\"), col(\"STATION\")]\n   WITH_COLUMNS:\n   [col(\"date\").alias(\"DATE\"), col(\"BEN\"), col(\"CO\"), col(\"EBE\"), col(\"MXY\"), col(\"NMHC\"), col(\"NO_2\"), col(\"NOx\").alias(\"NOX\"), col(\"OXY\"), col(\"O_3\"), col(\"PM10\"), col(\"PXY\"), col(\"SO_2\"), col(\"TCH\"), col(\"TOL\"), col(\"station\").alias(\"STATION\")] \n    SORT BY [col(\"date\")]\n      DF [\"date\", \"BEN\", \"CO\", \"EBE\", ...]; PROJECT */16 COLUMNS\n",
     "output_type": "error",
     "traceback": [
      "\u001b[1m\u001b[33mError\u001b[39m in `df_concat$collect()`:\u001b[22m\n\u001b[1m\u001b[22m\u001b[33m!\u001b[39m Evaluation failed in `$collect()`.\n\u001b[1mCaused by error:\u001b[22m\n\u001b[33m!\u001b[39m Invalid operation: 'union'/'concat' inputs should all have the same schema,got\nSchema:\n and \nSchema:\nname: DATE, field: String\nname: BEN, field: Float64\nname: CO, field: Float64\nname: EBE, field: Float64\nname: MXY, field: Float64\nname: NMHC, field: Float64\nname: NO_2, field: Float64\nname: NOX, field: Float64\nname: OXY, field: Float64\nname: O_3, field: Float64\nname: PM10, field: Float64\nname: PXY, field: Float64\nname: SO_2, field: Float64\nname: TCH, field: Float64\nname: TOL, field: Float64\nname: STATION, field: Int64\n\n\nResolved plan until failure:\n\n\t---> FAILED HERE RESOLVING 'sink' <---\nSELECT [col(\"DATE\"), col(\"BEN\"), col(\"CO\"), col(\"EBE\"), col(\"MXY\"), col(\"NMHC\"), col(\"NO_2\"), col(\"NOX\"), col(\"OXY\"), col(\"O_3\"), col(\"PM10\"), col(\"PXY\"), col(\"SO_2\"), col(\"TCH\"), col(\"TOL\"), col(\"STATION\")]\n   WITH_COLUMNS:\n   [col(\"date\").alias(\"DATE\"), col(\"BEN\"), col(\"CO\"), col(\"EBE\"), col(\"MXY\"), col(\"NMHC\"), col(\"NO_2\"), col(\"NOx\").alias(\"NOX\"), col(\"OXY\"), col(\"O_3\"), col(\"PM10\"), col(\"PXY\"), col(\"SO_2\"), col(\"TCH\"), col(\"TOL\"), col(\"station\").alias(\"STATION\")] \n    SORT BY [col(\"date\")]\n      DF [\"date\", \"BEN\", \"CO\", \"EBE\", ...]; PROJECT */16 COLUMNS\nTraceback:\n",
      "1. wrap({\n .     check_dots_empty0(...)\n .     engine <- arg_match0(engine, c(\"auto\", \"in-memory\", \"streaming\"))\n .     if (isTRUE(no_optimization) || isTRUE(`_eager`)) {\n .         predicate_pushdown <- FALSE\n .         projection_pushdown <- FALSE\n .         slice_pushdown <- FALSE\n .         comm_subplan_elim <- FALSE\n .         comm_subexpr_elim <- FALSE\n .         cluster_with_columns <- FALSE\n .         collapse_joins <- FALSE\n .         `_check_order` <- FALSE\n .     }\n .     ldf <- self$`_ldf`$optimization_toggle(type_coercion = type_coercion, \n .         `_type_check` = `_type_check`, predicate_pushdown = predicate_pushdown, \n .         projection_pushdown = projection_pushdown, simplify_expression = simplify_expression, \n .         slice_pushdown = slice_pushdown, comm_subplan_elim = comm_subplan_elim, \n .         comm_subexpr_elim = comm_subexpr_elim, cluster_with_columns = cluster_with_columns, \n .         collapse_joins = collapse_joins, `_check_order` = `_check_order`, \n .         `_eager` = `_eager`)\n .     ldf$collect(engine)\n . })",
      "2. try_fetch(x, error = function(cnd) {\n .     err_call <- error_call(call)[[1]]\n .     msg_body <- if (is.call(err_call)) {\n .         paste0(\"Evaluation failed in `$\", err_call[[length(err_call)]], \n .             \"()`.\")\n .     }\n .     else {\n .         \"Evaluation failed.\"\n .     }\n .     abort(msg_body, call = call, parent = cnd)\n . })",
      "3. tryCatch(withCallingHandlers(expr, condition = function(cnd) {\n .     {\n .         .__handler_frame__. <- TRUE\n .         .__setup_frame__. <- frame\n .         if (inherits(cnd, \"message\")) {\n .             except <- c(\"warning\", \"error\")\n .         }\n .         else if (inherits(cnd, \"warning\")) {\n .             except <- \"error\"\n .         }\n .         else {\n .             except <- \"\"\n .         }\n .     }\n .     while (!is_null(cnd)) {\n .         if (inherits(cnd, \"error\")) {\n .             out <- handlers[[1L]](cnd)\n .             if (!inherits(out, \"rlang_zap\")) \n .                 throw(out)\n .         }\n .         inherit <- .subset2(.subset2(cnd, \"rlang\"), \"inherit\")\n .         if (is_false(inherit)) {\n .             return()\n .         }\n .         cnd <- .subset2(cnd, \"parent\")\n .     }\n . }), stackOverflowError = handlers[[1L]])",
      "4. tryCatchList(expr, classes, parentenv, handlers)",
      "5. tryCatchOne(expr, names, parentenv, handlers[[1L]])",
      "6. doTryCatch(return(expr), name, parentenv, handler)",
      "7. withCallingHandlers(expr, condition = function(cnd) {\n .     {\n .         .__handler_frame__. <- TRUE\n .         .__setup_frame__. <- frame\n .         if (inherits(cnd, \"message\")) {\n .             except <- c(\"warning\", \"error\")\n .         }\n .         else if (inherits(cnd, \"warning\")) {\n .             except <- \"error\"\n .         }\n .         else {\n .             except <- \"\"\n .         }\n .     }\n .     while (!is_null(cnd)) {\n .         if (inherits(cnd, \"error\")) {\n .             out <- handlers[[1L]](cnd)\n .             if (!inherits(out, \"rlang_zap\")) \n .                 throw(out)\n .         }\n .         inherit <- .subset2(.subset2(cnd, \"rlang\"), \"inherit\")\n .         if (is_false(inherit)) {\n .             return()\n .         }\n .         cnd <- .subset2(cnd, \"parent\")\n .     }\n . })",
      "8. ldf$collect(engine)",
      "9. .savvy_wrap_PlRDataFrame(.Call(savvy_PlRLazyFrame_collect__impl, \n .     self, engine))",
      "10. .handleSimpleError(function (cnd) \n  . {\n  .     {\n  .         .__handler_frame__. <- TRUE\n  .         .__setup_frame__. <- frame\n  .         if (inherits(cnd, \"message\")) {\n  .             except <- c(\"warning\", \"error\")\n  .         }\n  .         else if (inherits(cnd, \"warning\")) {\n  .             except <- \"error\"\n  .         }\n  .         else {\n  .             except <- \"\"\n  .         }\n  .     }\n  .     while (!is_null(cnd)) {\n  .         if (inherits(cnd, \"error\")) {\n  .             out <- handlers[[1L]](cnd)\n  .             if (!inherits(out, \"rlang_zap\")) \n  .                 throw(out)\n  .         }\n  .         inherit <- .subset2(.subset2(cnd, \"rlang\"), \"inherit\")\n  .         if (is_false(inherit)) {\n  .             return()\n  .         }\n  .         cnd <- .subset2(cnd, \"parent\")\n  .     }\n  . }, \"Invalid operation: 'union'/'concat' inputs should all have the same schema,got\\nSchema:\\n and \\nSchema:\\nname: DATE, field: String\\nname: BEN, field: Float64\\nname: CO, field: Float64\\nname: EBE, field: Float64\\nname: MXY, field: Float64\\nname: NMHC, field: Float64\\nname: NO_2, field: Float64\\nname: NOX, field: Float64\\nname: OXY, field: Float64\\nname: O_3, field: Float64\\nname: PM10, field: Float64\\nname: PXY, field: Float64\\nname: SO_2, field: Float64\\nname: TCH, field: Float64\\nname: TOL, field: Float64\\nname: STATION, field: Int64\\n\\n\\nResolved plan until failure:\\n\\n\\t---> FAILED HERE RESOLVING 'sink' <---\\nSELECT [col(\\\"DATE\\\"), col(\\\"BEN\\\"), col(\\\"CO\\\"), col(\\\"EBE\\\"), col(\\\"MXY\\\"), col(\\\"NMHC\\\"), col(\\\"NO_2\\\"), col(\\\"NOX\\\"), col(\\\"OXY\\\"), col(\\\"O_3\\\"), col(\\\"PM10\\\"), col(\\\"PXY\\\"), col(\\\"SO_2\\\"), col(\\\"TCH\\\"), col(\\\"TOL\\\"), col(\\\"STATION\\\")]\\n   WITH_COLUMNS:\\n   [col(\\\"date\\\").alias(\\\"DATE\\\"), col(\\\"BEN\\\"), col(\\\"CO\\\"), col(\\\"EBE\\\"), col(\\\"MXY\\\"), col(\\\"NMHC\\\"), col(\\\"NO_2\\\"), col(\\\"NOx\\\").alias(\\\"NOX\\\"), col(\\\"OXY\\\"), col(\\\"O_3\\\"), col(\\\"PM10\\\"), col(\\\"PXY\\\"), col(\\\"SO_2\\\"), col(\\\"TCH\\\"), col(\\\"TOL\\\"), col(\\\"station\\\").alias(\\\"STATION\\\")] \\n    SORT BY [col(\\\"date\\\")]\\n      DF [\\\"date\\\", \\\"BEN\\\", \\\"CO\\\", \\\"EBE\\\", ...]; PROJECT */16 COLUMNS\", \n  .     base::quote(NULL))",
      "11. h(simpleError(msg, call))",
      "12. handlers[[1L]](cnd)",
      "13. abort(msg_body, call = call, parent = cnd)",
      "14. signal_abort(cnd, .file)",
      "15. signalCondition(cnd)"
     ]
    }
   ],
   "source": [
    "df_concat$collect()"
   ]
  }
 ],
 "metadata": {
  "kernelspec": {
   "display_name": "R",
   "language": "R",
   "name": "ir"
  },
  "language_info": {
   "codemirror_mode": "r",
   "file_extension": ".r",
   "mimetype": "text/x-r-source",
   "name": "R",
   "pygments_lexer": "r",
   "version": "4.5.0"
  }
 },
 "nbformat": 4,
 "nbformat_minor": 5
}
